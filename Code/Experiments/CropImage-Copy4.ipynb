{
 "cells": [
  {
   "cell_type": "markdown",
   "id": "1e50a8f2",
   "metadata": {
    "cell_id": "56466e3a1bb146babe04d02893fb6d35",
    "deepnote_cell_type": "text-cell-h3",
    "is_collapsed": false,
    "tags": []
   },
   "source": [
    "### Notebook to get the important part of the image so we can use it for calibration"
   ]
  },
  {
   "cell_type": "code",
   "execution_count": 2,
   "id": "6bd007f3",
   "metadata": {
    "cell_id": "e9951489-b2a6-46d4-afa6-276038824bbf",
    "deepnote_cell_height": 138,
    "deepnote_cell_type": "code",
    "owner_user_id": "6194dae6-c2f0-4b3e-a7ec-97523b51ec84"
   },
   "outputs": [],
   "source": [
    "# imports\n",
    "from PIL import Image, ImageChops, ImageOps\n",
    "import cv2\n",
    "import numpy as np\n",
    "from matplotlib import pyplot as plt\n",
    "import os"
   ]
  },
  {
   "cell_type": "code",
   "execution_count": null,
   "id": "c8b148c4",
   "metadata": {},
   "outputs": [
    {
     "name": "stderr",
     "output_type": "stream",
     "text": [
      "C:\\ProgramData\\Anaconda3\\lib\\site-packages\\ipykernel_launcher.py:29: RuntimeWarning: More than 20 figures have been opened. Figures created through the pyplot interface (`matplotlib.pyplot.figure`) are retained until explicitly closed and may consume too much memory. (To control this warning, see the rcParam `figure.max_open_warning`).\n"
     ]
    }
   ],
   "source": [
    "img_empty = Image.open(\"C:/Users/s212599/Pictures/Stereo_conveyor_without_occlusions/left/1585434280_502471924_Left.png\")\n",
    "img_empty = ImageOps.grayscale(img_empty)\n",
    "folder = \"C:/Users/s212599/Pictures/Stereo_conveyor_without_occlusions/left/\"\n",
    "#Copy_to_path = \"C:/Users/s212599/Pictures/Try2/\"\n",
    "cropped_images = []\n",
    "images = []\n",
    "for filename in os.listdir(folder):\n",
    "    img = Image.open(os.path.join(folder, filename))\n",
    "    img_gray = ImageOps.grayscale(img)\n",
    "    \n",
    "    \n",
    "    \n",
    "    # finding differences\n",
    "    diff = ImageChops.difference(img_empty, img_gray)\n",
    "    diff_np = np.array(diff)\n",
    "    #gray = cv2.cvtColor(diff_np, cv2.COLOR_BGR2GRAY)\n",
    "    # threshold to find different areas\n",
    "    ret,thresh1 = cv2.threshold(diff_np,20,255,cv2.THRESH_BINARY)\n",
    "    # Morphological operations to delete unwanted small areas\n",
    "    kernel = np.ones((10,10), np.uint8)\n",
    "    img_erosion = cv2.erode(thresh1, kernel, iterations = 1)\n",
    "    img_dilation = cv2.dilate(img_erosion, kernel, iterations = 1)\n",
    "    \n",
    "    #cut\n",
    "    img_dilation[0:720, 0:330] = 0\n",
    "    img_dilation[0:720, 1100:1280] = 0\n",
    "    img_dilation[600:720, 0:1280] = 0\n",
    "\n",
    "    plt.figure()\n",
    "    plt.imshow(img_dilation)\n",
    "    # create rectangle around the object\n",
    "    img = np.array(img)\n",
    "    coords = cv2.findNonZero(img_dilation)\n",
    "    x,y,w,h = cv2.boundingRect(coords)\n",
    "    rec = cv2.rectangle(img, (x-40,y-25), (x+w+25,y+h+25), (0,255,0), 4)\n",
    "    # crop the image so we can save it\n",
    "    x_start = x - 40\n",
    "    x_end = x + w +20\n",
    "    y_start = y-20\n",
    "    y_end = y + h+20\n",
    "    if x_start < 0:\n",
    "        x_start = 0\n",
    "    if x_end > img_gray.size[0]:\n",
    "        x_end = img_gray.size[0]\n",
    "    if y_start < 0: \n",
    "        y_start = 0\n",
    "    if y_end > img_gray.size[1]:\n",
    "        y_end =  img_gray.size[1]\n",
    "    \n",
    "    #if (img is not None) and (w < 400) and (w > 50) and (h < 400) and (h > 50):\n",
    "        #rec = cv2.rectangle(img, (y_start,y_end), (x_start,x_end), (0,255,0), 2)\n",
    "\n",
    "    #img_crop = img[y_start:y_end,x_start:x_end]\n",
    "    \n",
    "    if (rec is not None):\n",
    "        images.append(rec) "
   ]
  },
  {
   "cell_type": "code",
   "execution_count": 10,
   "id": "be22de4e",
   "metadata": {},
   "outputs": [],
   "source": [
    "img_dilation[0:720, 0:300] = 0"
   ]
  },
  {
   "cell_type": "code",
   "execution_count": 16,
   "id": "5256d23a",
   "metadata": {},
   "outputs": [
    {
     "data": {
      "text/plain": [
       "(720, 1280)"
      ]
     },
     "execution_count": 16,
     "metadata": {},
     "output_type": "execute_result"
    }
   ],
   "source": [
    "img_dilation.shape"
   ]
  },
  {
   "cell_type": "code",
   "execution_count": 31,
   "id": "4e7368bd",
   "metadata": {},
   "outputs": [],
   "source": [
    "out = cv2.VideoWriter('project.avi',cv2.VideoWriter_fourcc(*'DIVX'), 15, (images[1].shape[1], images[1].shape[0]))\n",
    " \n",
    "for i in range(len(images)):\n",
    "    out.write(images[i])\n",
    "out.release()"
   ]
  },
  {
   "cell_type": "markdown",
   "id": "4e368dcd",
   "metadata": {
    "created_in_deepnote_cell": true,
    "deepnote_cell_type": "markdown",
    "tags": []
   },
   "source": [
    "<a style='text-decoration:none;line-height:16px;display:flex;color:#5B5B62;padding:10px;justify-content:end;' href='https://deepnote.com?utm_source=created-in-deepnote-cell&projectId=7012705b-60eb-4206-a7ec-0352216dd398' target=\"_blank\">\n",
    "<img alt='Created in deepnote.com' style='display:inline;max-height:16px;margin:0px;margin-right:7.5px;' src='data:image/svg+xml;base64,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' > </img>\n",
    "Created in <span style='font-weight:600;margin-left:4px;'>Deepnote</span></a>"
   ]
  }
 ],
 "metadata": {
  "deepnote": {},
  "deepnote_execution_queue": [],
  "deepnote_notebook_id": "13d492f0-2dfb-4240-9378-8961605adff1",
  "kernelspec": {
   "display_name": "Python 3",
   "language": "python",
   "name": "python3"
  },
  "language_info": {
   "codemirror_mode": {
    "name": "ipython",
    "version": 3
   },
   "file_extension": ".py",
   "mimetype": "text/x-python",
   "name": "python",
   "nbconvert_exporter": "python",
   "pygments_lexer": "ipython3",
   "version": "3.7.4"
  }
 },
 "nbformat": 4,
 "nbformat_minor": 5
}
